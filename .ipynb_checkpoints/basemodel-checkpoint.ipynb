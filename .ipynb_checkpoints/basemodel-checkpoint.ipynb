{
 "cells": [
  {
   "cell_type": "code",
   "execution_count": 7,
   "metadata": {
    "collapsed": false
   },
   "outputs": [],
   "source": [
    "import tensorflow as tf\n",
    "import numpy as np\n",
    "from sklearn.utils import shuffle\n",
    "\n",
    "\n",
    "class BaseModel(object):\n",
    "    def __init__(self, n_classes, n_features, learning_rate=0.1):\n",
    "        self.n_classes = n_classes\n",
    "        self.n_features = n_features\n",
    "        self.sess = tf.InteractiveSession()\n",
    "        self.weights_init()\n",
    "        self.forward_pass()\n",
    "        self.learning_rate = learning_rate\n",
    "        self.cost_op()\n",
    "        self.optimize_op()\n",
    "        init = tf.global_variables_initializer()\n",
    "        self.sess.run(init)\n",
    "\n",
    "    @staticmethod\n",
    "    def xavier_init(fan_in, fan_out, constant=1):\n",
    "        \"\"\" Xavier initialization of network weights\"\"\"\n",
    "        low = -constant*np.sqrt(6.0/(fan_in + fan_out))\n",
    "        high = constant*np.sqrt(6.0/(fan_in + fan_out))\n",
    "        return tf.random_uniform((fan_in, fan_out), minval=low,\n",
    "                                 maxval=high, dtype=tf.float32)\n",
    "\n",
    "    def forward_pass(self):\n",
    "        with tf.name_scope(\"DNN\"):\n",
    "            hidden = tf.nn.relu(tf.add(tf.matmul(self.x,\n",
    "                                self.variables[\"w_h\"]),\n",
    "                                self.variables[\"b_h\"]))\n",
    "            self.logits = tf.add(tf.matmul(hidden, self.variables[\"w_o\"]),\n",
    "                                 self.variables[\"b_o\"])\n",
    "            self.y_hat = tf.nn.softmax(self.logits)\n",
    "\n",
    "    def weights_init(self):\n",
    "        self.x = tf.placeholder(tf.float32, [None, self.n_features])\n",
    "        self.y = tf.placeholder(tf.float32, [None, self.n_classes])\n",
    "        self.variables = {}\n",
    "        self.variables[\"w_h\"] = tf.get_variable(\"w_h\", initializer=\n",
    "                                    self.xavier_init(self.n_features, 1000))\n",
    "        self.variables[\"b_h\"] = tf.get_variable(\"b_h\",\n",
    "                                                initializer=tf.zeros(1000))\n",
    "        self.variables[\"w_o\"] = tf.get_variable(\"w_o\", initializer=\n",
    "                                    self.xavier_init(1000, self.n_classes))\n",
    "        self.variables[\"b_o\"] = tf.get_variable(\"b_o\",\n",
    "                                        initializer=tf.zeros(self.n_classes))\n",
    "\n",
    "    def cost_op(self):\n",
    "        with tf.name_scope(\"cost\"):\n",
    "            self.cost = tf.reduce_mean(tf.nn.softmax_cross_entropy_with_logits_v2(\n",
    "                                        logits=self.logits, labels=self.y))\n",
    "        return self.cost\n",
    "\n",
    "    def optimize_op(self):\n",
    "        update_ops = tf.get_collection(tf.GraphKeys.UPDATE_OPS)\n",
    "        with tf.control_dependencies(update_ops):\n",
    "            self.optimizer = tf.train.AdamOptimizer(\n",
    "                        self.learning_rate).minimize(self.cost)\n",
    "        return self.optimizer\n",
    "\n",
    "    def train(self, X, Y, learning_rate=0.1, epochs=10, batch_size=100):\n",
    "        N = X.shape[0]\n",
    "        epoch_cost = []\n",
    "        for e in range(epochs):\n",
    "            total_cost = 0\n",
    "            X, Y = shuffle(X, Y, random_state=0)\n",
    "            for i in range(0, N, batch_size):\n",
    "                train_X = X[i:i + batch_size]\n",
    "                train_Y = Y[i:i + batch_size]\n",
    "                c, _ = self.sess.run([self.cost, self.optimizer],\n",
    "                                     feed_dict={self.x: train_X,\n",
    "                                     self.y: train_Y})\n",
    "                total_cost += c\n",
    "            epoch_cost.append(total_cost)\n",
    "\n",
    "    def predict(self, X):\n",
    "        predictions = self.sess.run(self.y_hat, feed_dict={self.x: X})\n",
    "        predictions = predictions.argmax(axis=1)\n",
    "        return predictions\n"
   ]
  },
  {
   "cell_type": "code",
   "execution_count": 2,
   "metadata": {
    "collapsed": false
   },
   "outputs": [
    {
     "name": "stdout",
     "output_type": "stream",
     "text": [
      "Extracting /Users/Blackbak/Downloads/mnist/train-images-idx3-ubyte.gz\n",
      "Extracting /Users/Blackbak/Downloads/mnist/train-labels-idx1-ubyte.gz\n",
      "Extracting /Users/Blackbak/Downloads/mnist/t10k-images-idx3-ubyte.gz\n",
      "Extracting /Users/Blackbak/Downloads/mnist/t10k-labels-idx1-ubyte.gz\n"
     ]
    }
   ],
   "source": [
    "from tensorflow.examples.tutorials.mnist import input_data\n",
    "mnist = input_data.read_data_sets(\"/Users/Blackbak/Downloads/mnist/\")"
   ]
  },
  {
   "cell_type": "code",
   "execution_count": 3,
   "metadata": {
    "collapsed": false
   },
   "outputs": [
    {
     "name": "stdout",
     "output_type": "stream",
     "text": [
      "(55000, 784) (55000,)\n"
     ]
    }
   ],
   "source": [
    "x_train = mnist.train.images[:55000,:]\n",
    "y_train = mnist.train.labels[:55000]\n",
    "print(x_train.shape, y_train.shape)"
   ]
  },
  {
   "cell_type": "code",
   "execution_count": 5,
   "metadata": {
    "collapsed": false,
    "scrolled": true
   },
   "outputs": [
    {
     "data": {
      "image/png": "[encoded data removed]",
      "text/plain": [
       "<matplotlib.figure.Figure at 0x1217c5470>"
      ]
     },
     "metadata": {},
     "output_type": "display_data"
    }
   ],
   "source": [
    "import matplotlib.pyplot as plt\n",
    "%matplotlib inline\n",
    "\n",
    "randomNum = np.random.randint(0,55000)\n",
    "image = x_train[randomNum].reshape([28,28])\n",
    "plt.imshow(image, cmap=plt.get_cmap('gray_r'))\n",
    "plt.show()"
   ]
  },
  {
   "cell_type": "code",
   "execution_count": 10,
   "metadata": {
    "collapsed": false
   },
   "outputs": [],
   "source": [
    "n_features = x_train.shape[1]\n",
    "n_classes = len(np.unique(y_train))\n",
    "base = BaseModel(n_features=n_features, n_classes=n_classes)"
   ]
  },
  {
   "cell_type": "code",
   "execution_count": 11,
   "metadata": {
    "collapsed": false
   },
   "outputs": [],
   "source": [
    "from sklearn.preprocessing import LabelBinarizer\n",
    "\n",
    "y_train_onehot = LabelBinarizer().fit_transform(y_train)\n",
    "base.train(X=x_train, Y=y_train_onehot)"
   ]
  },
  {
   "cell_type": "code",
   "execution_count": 12,
   "metadata": {
    "collapsed": false
   },
   "outputs": [
    {
     "name": "stdout",
     "output_type": "stream",
     "text": [
      "Accuracy: 0.7424727272727273\n"
     ]
    }
   ],
   "source": [
    "predictions = base.predict(x_train)\n",
    "print(\"Accuracy:\",  (predictions==y_train).sum()/len(y_train))"
   ]
  },
  {
   "cell_type": "code",
   "execution_count": 24,
   "metadata": {
    "collapsed": true
   },
   "outputs": [],
   "source": [
    "class CnnModel(BaseModel):\n",
    "    def conv2d(self, x, W):\n",
    "        return tf.nn.conv2d(x, W, strides = [1, 1, 1, 1], padding = 'SAME')\n",
    "\n",
    "    def max_pool_2x2(self, x):\n",
    "        return tf.nn.max_pool(x, ksize=[1, 2, 2, 1], strides = [1, 2, 2, 1], padding = 'SAME')\n",
    "\n",
    "    def weight_variable(self, shape):\n",
    "        initial = tf.truncated_normal(shape, stddev = 0.1)\n",
    "        return tf.Variable(initial)\n",
    "\n",
    "    def bias_variable(self, shape):\n",
    "        initial = tf.constant(0.1, shape=shape)\n",
    "        return tf.Variable(initial)\n",
    "\n",
    "    def weights_init(self):\n",
    "        self.x = tf.placeholder(tf.float32, [None, self.n_features])\n",
    "        self.y = tf.placeholder(tf.float32, [None, self.n_classes])\n",
    "        self.variables = {}\n",
    "        #First Convolutional and Max Pool Layers\n",
    "        self.variables[\"W_conv1\"] = self.weight_variable([5, 5, 1, 32])\n",
    "        self.variables[\"b_conv1\"] = self.bias_variable([32])\n",
    "        #Second Convolutional and Max Pool Layers\n",
    "        self.variables[\"W_conv2\"] = self.weight_variable([5, 5, 32, 64])\n",
    "        self.variables[\"b_conv2\"] = self.bias_variable([64])\n",
    "        #Densely Connected Layer\n",
    "        self.variables[\"W_fcl\"] = self.weight_variable([7 * 7 * 64, 1024])\n",
    "        self.variables[\"b_fcl\"] = self.bias_variable([1024])\n",
    "        #Output Layer (Softmax)\n",
    "        self.variables[\"W_fc2\"] = self.weight_variable([1024, 10])\n",
    "        self.variables[\"b_fc2\"] = self.bias_variable([10])\n",
    "\n",
    "        \n",
    "    def forward_pass(self):\n",
    "        x = tf.reshape(self.x, [-1, 28, 28, 1])\n",
    "\n",
    "        h_conv1 = tf.nn.relu(self.conv2d(x, W_conv1) + b_conv1)\n",
    "        h_pool1 = self.max_pool_2x2(h_conv1)\n",
    "\n",
    "        h_conv2 = tf.nn.relu(self.conv2d(h_pool1, W_conv2) + b_conv2)\n",
    "        h_pool2 = self.max_pool_2x2(h_conv2)\n",
    "\n",
    "        h_pool2_flat = tf.reshape(h_pool2, [-1, 7 * 7 * 64])\n",
    "        h_fcl = tf.nn.relu(tf.matmul(h_pool2_flat, W_fcl) + b_fcl)\n",
    "\n",
    "        #Dropout\n",
    "        h_fc1_drop = tf.nn.dropout(h_fcl, 0.5)\n",
    "\n",
    "        self.logits = tf.matmul(h_fc1_drop, W_fc2) + b_fc2\n",
    "        self.y_hat = tf.nn.softmax(self.logits)\n",
    "        "
   ]
  },
  {
   "cell_type": "code",
   "execution_count": 25,
   "metadata": {
    "collapsed": false
   },
   "outputs": [
    {
     "ename": "NameError",
     "evalue": "name 'W_conv1' is not defined",
     "output_type": "error",
     "traceback": [
      "\u001b[0;31m---------------------------------------------------------------------------\u001b[0m",
      "\u001b[0;31mNameError\u001b[0m                                 Traceback (most recent call last)",
      "\u001b[0;32m<ipython-input-25-a8282fcbeae9>\u001b[0m in \u001b[0;36m<module>\u001b[0;34m()\u001b[0m\n\u001b[1;32m      1\u001b[0m \u001b[0mn_features\u001b[0m \u001b[0;34m=\u001b[0m \u001b[0mx_train\u001b[0m\u001b[0;34m.\u001b[0m\u001b[0mshape\u001b[0m\u001b[0;34m[\u001b[0m\u001b[0;36m1\u001b[0m\u001b[0;34m]\u001b[0m\u001b[0;34m\u001b[0m\u001b[0m\n\u001b[1;32m      2\u001b[0m \u001b[0mn_classes\u001b[0m \u001b[0;34m=\u001b[0m \u001b[0mlen\u001b[0m\u001b[0;34m(\u001b[0m\u001b[0mnp\u001b[0m\u001b[0;34m.\u001b[0m\u001b[0munique\u001b[0m\u001b[0;34m(\u001b[0m\u001b[0my_train\u001b[0m\u001b[0;34m)\u001b[0m\u001b[0;34m)\u001b[0m\u001b[0;34m\u001b[0m\u001b[0m\n\u001b[0;32m----> 3\u001b[0;31m \u001b[0mcnns\u001b[0m \u001b[0;34m=\u001b[0m \u001b[0mCnnModel\u001b[0m\u001b[0;34m(\u001b[0m\u001b[0mn_features\u001b[0m\u001b[0;34m=\u001b[0m\u001b[0mn_features\u001b[0m\u001b[0;34m,\u001b[0m \u001b[0mn_classes\u001b[0m\u001b[0;34m=\u001b[0m\u001b[0mn_classes\u001b[0m\u001b[0;34m)\u001b[0m\u001b[0;34m\u001b[0m\u001b[0m\n\u001b[0m",
      "\u001b[0;32m<ipython-input-7-896d1f9233a7>\u001b[0m in \u001b[0;36m__init__\u001b[0;34m(self, n_classes, n_features, learning_rate)\u001b[0m\n\u001b[1;32m     10\u001b[0m         \u001b[0mself\u001b[0m\u001b[0;34m.\u001b[0m\u001b[0msess\u001b[0m \u001b[0;34m=\u001b[0m \u001b[0mtf\u001b[0m\u001b[0;34m.\u001b[0m\u001b[0mInteractiveSession\u001b[0m\u001b[0;34m(\u001b[0m\u001b[0;34m)\u001b[0m\u001b[0;34m\u001b[0m\u001b[0m\n\u001b[1;32m     11\u001b[0m         \u001b[0mself\u001b[0m\u001b[0;34m.\u001b[0m\u001b[0mweights_init\u001b[0m\u001b[0;34m(\u001b[0m\u001b[0;34m)\u001b[0m\u001b[0;34m\u001b[0m\u001b[0m\n\u001b[0;32m---> 12\u001b[0;31m         \u001b[0mself\u001b[0m\u001b[0;34m.\u001b[0m\u001b[0mforward_pass\u001b[0m\u001b[0;34m(\u001b[0m\u001b[0;34m)\u001b[0m\u001b[0;34m\u001b[0m\u001b[0m\n\u001b[0m\u001b[1;32m     13\u001b[0m         \u001b[0mself\u001b[0m\u001b[0;34m.\u001b[0m\u001b[0mlearning_rate\u001b[0m \u001b[0;34m=\u001b[0m \u001b[0mlearning_rate\u001b[0m\u001b[0;34m\u001b[0m\u001b[0m\n\u001b[1;32m     14\u001b[0m         \u001b[0mself\u001b[0m\u001b[0;34m.\u001b[0m\u001b[0mcost_op\u001b[0m\u001b[0;34m(\u001b[0m\u001b[0;34m)\u001b[0m\u001b[0;34m\u001b[0m\u001b[0m\n",
      "\u001b[0;32m<ipython-input-24-d3c362fd1f59>\u001b[0m in \u001b[0;36mforward_pass\u001b[0;34m(self)\u001b[0m\n\u001b[1;32m     34\u001b[0m         \u001b[0mx\u001b[0m \u001b[0;34m=\u001b[0m \u001b[0mtf\u001b[0m\u001b[0;34m.\u001b[0m\u001b[0mreshape\u001b[0m\u001b[0;34m(\u001b[0m\u001b[0mself\u001b[0m\u001b[0;34m.\u001b[0m\u001b[0mx\u001b[0m\u001b[0;34m,\u001b[0m \u001b[0;34m[\u001b[0m\u001b[0;34m-\u001b[0m\u001b[0;36m1\u001b[0m\u001b[0;34m,\u001b[0m \u001b[0;36m28\u001b[0m\u001b[0;34m,\u001b[0m \u001b[0;36m28\u001b[0m\u001b[0;34m,\u001b[0m \u001b[0;36m1\u001b[0m\u001b[0;34m]\u001b[0m\u001b[0;34m)\u001b[0m\u001b[0;34m\u001b[0m\u001b[0m\n\u001b[1;32m     35\u001b[0m \u001b[0;34m\u001b[0m\u001b[0m\n\u001b[0;32m---> 36\u001b[0;31m         \u001b[0mh_conv1\u001b[0m \u001b[0;34m=\u001b[0m \u001b[0mtf\u001b[0m\u001b[0;34m.\u001b[0m\u001b[0mnn\u001b[0m\u001b[0;34m.\u001b[0m\u001b[0mrelu\u001b[0m\u001b[0;34m(\u001b[0m\u001b[0mself\u001b[0m\u001b[0;34m.\u001b[0m\u001b[0mconv2d\u001b[0m\u001b[0;34m(\u001b[0m\u001b[0mx\u001b[0m\u001b[0;34m,\u001b[0m \u001b[0mW_conv1\u001b[0m\u001b[0;34m)\u001b[0m \u001b[0;34m+\u001b[0m \u001b[0mb_conv1\u001b[0m\u001b[0;34m)\u001b[0m\u001b[0;34m\u001b[0m\u001b[0m\n\u001b[0m\u001b[1;32m     37\u001b[0m         \u001b[0mh_pool1\u001b[0m \u001b[0;34m=\u001b[0m \u001b[0mself\u001b[0m\u001b[0;34m.\u001b[0m\u001b[0mmax_pool_2x2\u001b[0m\u001b[0;34m(\u001b[0m\u001b[0mh_conv1\u001b[0m\u001b[0;34m)\u001b[0m\u001b[0;34m\u001b[0m\u001b[0m\n\u001b[1;32m     38\u001b[0m \u001b[0;34m\u001b[0m\u001b[0m\n",
      "\u001b[0;31mNameError\u001b[0m: name 'W_conv1' is not defined"
     ]
    }
   ],
   "source": [
    "n_features = x_train.shape[1]\n",
    "n_classes = len(np.unique(y_train))\n",
    "cnns = CnnModel(n_features=n_features, n_classes=n_classes)"
   ]
  },
  {
   "cell_type": "code",
   "execution_count": 56,
   "metadata": {
    "collapsed": true
   },
   "outputs": [],
   "source": [
    "tf.reset_default_graph()"
   ]
  },
  {
   "cell_type": "code",
   "execution_count": 40,
   "metadata": {
    "collapsed": false
   },
   "outputs": [],
   "source": [
    "from sklearn.preprocessing import LabelBinarizer\n",
    "\n",
    "enc = OneHotEncoder(sparse=False)\n",
    "test = LabelBinarizer().fit_transform(y_train)"
   ]
  },
  {
   "cell_type": "code",
   "execution_count": 54,
   "metadata": {
    "collapsed": false
   },
   "outputs": [
    {
     "data": {
      "text/plain": [
       "array([[5.3331077e-02, 3.0612955e-02, 3.7860077e-02, ..., 2.4726411e-02,\n",
       "        5.8059049e-01, 3.9025962e-02],\n",
       "       [0.0000000e+00, 5.3091700e-14, 5.9687408e-20, ..., 6.4688356e-04,\n",
       "        2.0887164e-17, 2.7653847e-21],\n",
       "       [3.6542475e-24, 7.5730895e-15, 5.3029021e-09, ..., 7.0180908e-02,\n",
       "        6.5605556e-11, 9.1657770e-01],\n",
       "       ...,\n",
       "       [0.0000000e+00, 0.0000000e+00, 0.0000000e+00, ..., 0.0000000e+00,\n",
       "        0.0000000e+00, 0.0000000e+00],\n",
       "       [7.6876247e-30, 0.0000000e+00, 2.5245118e-16, ..., 0.0000000e+00,\n",
       "        2.3981909e-36, 0.0000000e+00],\n",
       "       [5.3331077e-02, 3.0612955e-02, 3.7860077e-02, ..., 2.4726411e-02,\n",
       "        5.8059049e-01, 3.9025962e-02]], dtype=float32)"
      ]
     },
     "execution_count": 54,
     "metadata": {},
     "output_type": "execute_result"
    }
   ],
   "source": [
    "predictions"
   ]
  },
  {
   "cell_type": "code",
   "execution_count": null,
   "metadata": {
    "collapsed": true
   },
   "outputs": [],
   "source": []
  }
 ],
 "metadata": {
  "anaconda-cloud": {},
  "kernelspec": {
   "display_name": "Python [default]",
   "language": "python",
   "name": "python3"
  },
  "language_info": {
   "codemirror_mode": {
    "name": "ipython",
    "version": 3
   },
   "file_extension": ".py",
   "mimetype": "text/x-python",
   "name": "python",
   "nbconvert_exporter": "python",
   "pygments_lexer": "ipython3",
   "version": "3.5.4"
  }
 },
 "nbformat": 4,
 "nbformat_minor": 2
}
